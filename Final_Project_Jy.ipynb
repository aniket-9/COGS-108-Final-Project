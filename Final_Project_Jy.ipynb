{
 "cells": [
  {
   "cell_type": "markdown",
   "metadata": {},
   "source": [
    "# Data Cleaning"
   ]
  },
  {
   "cell_type": "code",
   "execution_count": 3,
   "metadata": {},
   "outputs": [],
   "source": [
    "import numpy as np\n",
    "import pandas as pd\n",
    "import matplotlib.pyplot as plt\n",
    "import seaborn as sns"
   ]
  },
  {
   "cell_type": "code",
   "execution_count": 4,
   "metadata": {},
   "outputs": [],
   "source": [
    "pd.options.display.max_rows = 7\n",
    "pd.options.display.max_columns = 8"
   ]
  },
  {
   "cell_type": "code",
   "execution_count": 5,
   "metadata": {},
   "outputs": [],
   "source": [
    "#parse data\n",
    "df_index = pd.read_csv(\"oci_2015_datasd.csv\")\n",
    "df_collisions = pd.read_csv(\"pd_collisions_datasd.csv\")\n",
    "df_traffic = pd.read_csv(\"traffic_counts_datasd.csv\")\n",
    "df_meters = pd.read_csv(\"treas_parking_meters_loc_datasd.csv\")\n",
    "\n",
    "#drop OCI columns\n",
    "df_index.drop( columns = \"seg_id\", inplace = True )\n",
    "df_index.drop( columns = \"oci_wt\", inplace = True )\n",
    "df_index.drop( columns = \"pvm_class\", inplace = True )\n",
    "df_index.drop( columns = \"func_class\", inplace = True )\n",
    "df_index.drop( columns = \"oci_desc\", inplace = True )\n",
    "\n",
    "#drop collision columns\n",
    "df_collisions.drop( columns = \"report_id\", inplace = True )\n",
    "df_collisions.drop( columns = \"date_time\", inplace = True )\n",
    "df_collisions.drop( columns = \"street_no\", inplace = True )\n",
    "df_collisions.drop( columns = \"street_dir\", inplace = True )\n",
    "df_collisions.drop( columns = \"cross_st_dir\", inplace = True )\n",
    "df_collisions.drop( columns = \"violation_section\", inplace = True )\n",
    "df_collisions.drop( columns = \"violation_type\", inplace = True )\n",
    "df_collisions.drop( columns = \"charge_desc\", inplace = True )\n",
    "df_collisions.drop( columns = \"injured\", inplace = True )\n",
    "df_collisions.drop( columns = \"killed\", inplace = True )\n",
    "df_collisions.drop( columns = \"hit_run_lvl\", inplace = True )\n",
    "df_collisions.drop( columns = \"police_beat\", inplace = True )\n",
    "\n",
    "#drop traffic columns\n",
    "df_traffic.drop( columns = \"id\", inplace = True )\n",
    "df_traffic.drop( columns = \"all_count\", inplace = True )\n",
    "df_traffic.drop( columns = \"northbound_count\", inplace = True )\n",
    "df_traffic.drop( columns = \"southbound_count\", inplace = True )\n",
    "df_traffic.drop( columns = \"eastbound_count\", inplace = True )\n",
    "df_traffic.drop( columns = \"westbound_count\", inplace = True )\n",
    "df_traffic.drop( columns = \"file_no\", inplace = True )\n",
    "df_traffic.drop( columns = \"count_date\", inplace = True )"
   ]
  },
  {
   "cell_type": "markdown",
   "metadata": {},
   "source": [
    "# Descriptive Analysis"
   ]
  },
  {
   "cell_type": "code",
   "execution_count": 8,
   "metadata": {},
   "outputs": [],
   "source": [
    "#storing # of collisions and street names temporarily\n",
    "num_collisions = {}\n",
    "\n",
    "#converting street name format to df_index's format\n",
    "conversion = {\"STREET\" : \"ST\", \"AVENUE\": \"AV\", \"CIRCLE\": \"CR\", \"WAY\":\" WY\", \"ROAD\": \"RD\", \n",
    "              \"COURT\" : \"CT\", \"DRIVE\" : \"DR\", \"LANE\": \"LN\", \"PLACE\": \"PL\", }\n",
    "#filling num_collisions\n",
    "for index, row in df_collisions.iterrows():\n",
    "    if conversion.get(str(row['street_type'])) != None:\n",
    "        street_type = conversion[str(row['street_type'])]\n",
    "    else:\n",
    "        street_type = str(row['street_type'])\n",
    "    street_name = str(row['street_name']) + \" \" + street_type\n",
    "    if num_collisions.get(street_name) == None:\n",
    "        num_collisions[street_name] = 0;\n",
    "    num_collisions[street_name]+=1;\n",
    "\n",
    "#creating new column in df_index\n",
    "df_index['collisions'] = 0\n",
    "\n",
    "#filling the collisions column\n",
    "for index, row in df_index.iterrows():\n",
    "    street = str(row['street'])\n",
    "    if num_collisions.get(street) != None:\n",
    "        df_index.loc[index, 'collisions'] = num_collisions[street]\n",
    "\n",
    "df_index_collisions = df_index[df_index.collisions != 0]\n"
   ]
  },
  {
   "cell_type": "code",
   "execution_count": 29,
   "metadata": {},
   "outputs": [
    {
     "name": "stdout",
     "output_type": "stream",
     "text": [
      "Mean oci of streets with at least one collision: 69.783\n",
      "Max oci of streets with at least one collision: 100.000\n",
      "Min oci of streets with at least one collision: 0.000\n",
      "\n",
      "Mean collisions of streets with at least one collision: 30.164\n",
      "Max collisions of streets: 593\n",
      "Min collisions of streets: 1\n",
      "Collision variance of streets with at least one collision: 4681.074\n"
     ]
    },
    {
     "data": {
      "text/plain": [
       "<matplotlib.axes._subplots.AxesSubplot at 0x1a505242320>"
      ]
     },
     "execution_count": 29,
     "metadata": {},
     "output_type": "execute_result"
    },
    {
     "data": {
      "image/png": "[encoded data removed]",
      "text/plain": [
       "<Figure size 432x288 with 1 Axes>"
      ]
     },
     "metadata": {
      "needs_background": "light"
     },
     "output_type": "display_data"
    }
   ],
   "source": [
    "oci_mean = df_index_collisions['oci'].mean()\n",
    "oci_max = df_index_collisions['oci'].max()\n",
    "oci_min = df_index_collisions['oci'].min()\n",
    "\n",
    "collisions_mean = df_index_collisions['collisions'].mean()\n",
    "collisions_max = df_index_collisions['collisions'].max()\n",
    "collisions_min = df_index_collisions['collisions'].min()\n",
    "collisions_var = df_index_collisions['collisions'].var()\n",
    "\n",
    "print(\"Mean oci of streets with at least one collision: \" + format(oci_mean, '.3f'))\n",
    "print(\"Max oci of streets with at least one collision: \" + format(oci_max, '.3f'))\n",
    "print(\"Min oci of streets with at least one collision: \" + format(oci_min, '.3f') + \"\\n\")\n",
    "\n",
    "print(\"Mean collisions of streets with at least one collision: \" + format(collisions_mean, '.3f'))\n",
    "print(\"Max collisions of streets: \" + format(collisions_max, '.0f'))\n",
    "print(\"Min collisions of streets: \" + format(collisions_min, '.0f'))\n",
    "print(\"Collision variance of streets with at least one collision: \" + format(collisions_var, '.3f'))\n",
    "\n",
    "#oci vs collisions\n",
    "df_index_collisions.plot.scatter('oci', 'collisions')"
   ]
  }
 ],
 "metadata": {
  "kernelspec": {
   "display_name": "Python 3",
   "language": "python",
   "name": "python3"
  },
  "language_info": {
   "codemirror_mode": {
    "name": "ipython",
    "version": 3
   },
   "file_extension": ".py",
   "mimetype": "text/x-python",
   "name": "python",
   "nbconvert_exporter": "python",
   "pygments_lexer": "ipython3",
   "version": "3.6.0"
  }
 },
 "nbformat": 4,
 "nbformat_minor": 2
}
