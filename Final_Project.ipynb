{
 "cells": [
  {
   "cell_type": "markdown",
   "metadata": {},
   "source": [
    "# Data Cleaning"
   ]
  },
  {
   "cell_type": "code",
   "execution_count": 1,
   "metadata": {},
   "outputs": [],
   "source": [
    "import numpy as np\n",
    "import pandas as pd\n",
    "import matplotlib.pyplot as plt\n",
    "import seaborn as sns"
   ]
  },
  {
   "cell_type": "code",
   "execution_count": 2,
   "metadata": {},
   "outputs": [],
   "source": [
    "pd.options.display.max_rows = 7\n",
    "pd.options.display.max_columns = 8"
   ]
  },
  {
   "cell_type": "code",
   "execution_count": 17,
   "metadata": {},
   "outputs": [
    {
     "data": {
      "text/html": [
       "<div>\n",
       "<style scoped>\n",
       "    .dataframe tbody tr th:only-of-type {\n",
       "        vertical-align: middle;\n",
       "    }\n",
       "\n",
       "    .dataframe tbody tr th {\n",
       "        vertical-align: top;\n",
       "    }\n",
       "\n",
       "    .dataframe thead th {\n",
       "        text-align: right;\n",
       "    }\n",
       "</style>\n",
       "<table border=\"1\" class=\"dataframe\">\n",
       "  <thead>\n",
       "    <tr style=\"text-align: right;\">\n",
       "      <th></th>\n",
       "      <th>street_name</th>\n",
       "      <th>limits</th>\n",
       "      <th>total_count</th>\n",
       "      <th>count_date</th>\n",
       "    </tr>\n",
       "  </thead>\n",
       "  <tbody>\n",
       "    <tr>\n",
       "      <th>0</th>\n",
       "      <td>01 AV</td>\n",
       "      <td>A ST - ASH ST</td>\n",
       "      <td>18010</td>\n",
       "      <td>2007-03-13 00:00:00</td>\n",
       "    </tr>\n",
       "    <tr>\n",
       "      <th>1</th>\n",
       "      <td>01 AV</td>\n",
       "      <td>A ST - ASH ST</td>\n",
       "      <td>20060</td>\n",
       "      <td>2010-03-18 00:00:00</td>\n",
       "    </tr>\n",
       "    <tr>\n",
       "      <th>2</th>\n",
       "      <td>01 AV</td>\n",
       "      <td>A ST - ASH ST</td>\n",
       "      <td>19597</td>\n",
       "      <td>2013-03-12 00:00:00</td>\n",
       "    </tr>\n",
       "    <tr>\n",
       "      <th>...</th>\n",
       "      <td>...</td>\n",
       "      <td>...</td>\n",
       "      <td>...</td>\n",
       "      <td>...</td>\n",
       "    </tr>\n",
       "    <tr>\n",
       "      <th>11656</th>\n",
       "      <td>ZOO PL</td>\n",
       "      <td>PARK BL - FLORIDA DR</td>\n",
       "      <td>5595</td>\n",
       "      <td>2014-05-24 00:00:00</td>\n",
       "    </tr>\n",
       "    <tr>\n",
       "      <th>11657</th>\n",
       "      <td>ZOO PL</td>\n",
       "      <td>PARK BL - FLORIDA DR</td>\n",
       "      <td>4425</td>\n",
       "      <td>2014-12-16 00:00:00</td>\n",
       "    </tr>\n",
       "    <tr>\n",
       "      <th>11658</th>\n",
       "      <td>ZOO PL</td>\n",
       "      <td>PARK BL - FLORIDA DR</td>\n",
       "      <td>6274</td>\n",
       "      <td>2018-04-17 00:00:00</td>\n",
       "    </tr>\n",
       "  </tbody>\n",
       "</table>\n",
       "<p>11659 rows × 4 columns</p>\n",
       "</div>"
      ],
      "text/plain": [
       "      street_name                limits  total_count           count_date\n",
       "0           01 AV         A ST - ASH ST        18010  2007-03-13 00:00:00\n",
       "1           01 AV         A ST - ASH ST        20060  2010-03-18 00:00:00\n",
       "2           01 AV         A ST - ASH ST        19597  2013-03-12 00:00:00\n",
       "...           ...                   ...          ...                  ...\n",
       "11656      ZOO PL  PARK BL - FLORIDA DR         5595  2014-05-24 00:00:00\n",
       "11657      ZOO PL  PARK BL - FLORIDA DR         4425  2014-12-16 00:00:00\n",
       "11658      ZOO PL  PARK BL - FLORIDA DR         6274  2018-04-17 00:00:00\n",
       "\n",
       "[11659 rows x 4 columns]"
      ]
     },
     "execution_count": 17,
     "metadata": {},
     "output_type": "execute_result"
    }
   ],
   "source": [
    "#parse data\n",
    "df_index = pd.read_csv(\"oci_2015_datasd.csv\")\n",
    "df_collisions = pd.read_csv(\"pd_collisions_datasd.csv\")\n",
    "df_traffic = pd.read_csv(\"traffic_counts_datasd.csv\")\n",
    "df_meters = pd.read_csv(\"treas_parking_meters_loc_datasd.csv\")\n",
    "\n",
    "#drop OCI columns\n",
    "df_index.drop( columns = \"seg_id\", inplace = True )\n",
    "df_index.drop( columns = \"seg_length_ft\", inplace = True )\n",
    "df_index.drop( columns = \"seg_width_ft\", inplace = True )\n",
    "df_index.drop( columns = \"street_from\", inplace = True )\n",
    "df_index.drop( columns = \"street_to\", inplace = True )\n",
    "df_index.drop( columns = \"oci_wt\", inplace = True )\n",
    "df_index.drop( columns = \"pvm_class\", inplace = True )\n",
    "df_index.drop( columns = \"func_class\", inplace = True )\n",
    "\n",
    "#drop collision columns\n",
    "df_collisions.drop( columns = \"report_id\", inplace = True )\n",
    "df_collisions.drop( columns = \"cross_st_name\", inplace = True )\n",
    "df_collisions.drop( columns = \"cross_st_type\", inplace = True )\n",
    "df_collisions.drop( columns = \"street_dir\", inplace = True )\n",
    "df_collisions.drop( columns = \"cross_st_dir\", inplace = True )\n",
    "df_collisions.drop( columns = \"violation_section\", inplace = True )\n",
    "df_collisions.drop( columns = \"violation_type\", inplace = True )\n",
    "df_collisions.drop( columns = \"charge_desc\", inplace = True )\n",
    "df_collisions.drop( columns = \"injured\", inplace = True )\n",
    "df_collisions.drop( columns = \"killed\", inplace = True )\n",
    "df_collisions.drop( columns = \"hit_run_lvl\", inplace = True )\n",
    "\n",
    "#drop traffic columns\n",
    "df_traffic.drop( columns = \"id\", inplace = True )\n",
    "df_traffic.drop( columns = \"all_count\", inplace = True )\n",
    "df_traffic.drop( columns = \"northbound_count\", inplace = True )\n",
    "df_traffic.drop( columns = \"southbound_count\", inplace = True )\n",
    "df_traffic.drop( columns = \"eastbound_count\", inplace = True )\n",
    "df_traffic.drop( columns = \"westbound_count\", inplace = True )\n",
    "df_traffic.drop( columns = \"file_no\", inplace = True )\n"
   ]
  },
  {
   "cell_type": "code",
   "execution_count": null,
   "metadata": {},
   "outputs": [],
   "source": []
  }
 ],
 "metadata": {
  "kernelspec": {
   "display_name": "Python 3",
   "language": "python",
   "name": "python3"
  },
  "language_info": {
   "codemirror_mode": {
    "name": "ipython",
    "version": 3
   },
   "file_extension": ".py",
   "mimetype": "text/x-python",
   "name": "python",
   "nbconvert_exporter": "python",
   "pygments_lexer": "ipython3",
   "version": "3.7.3"
  }
 },
 "nbformat": 4,
 "nbformat_minor": 2
}
