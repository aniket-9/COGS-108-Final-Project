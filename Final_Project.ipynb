{
 "cells": [
  {
   "cell_type": "code",
   "execution_count": 1,
   "metadata": {},
   "outputs": [],
   "source": [
    "#Traffic Collisions in San Diego"
   ]
  },
  {
   "cell_type": "markdown",
   "metadata": {},
   "source": [
    "# Data Cleaning"
   ]
  },
  {
   "cell_type": "code",
   "execution_count": 2,
   "metadata": {},
   "outputs": [],
   "source": [
    "import numpy as np\n",
    "import pandas as pd\n",
    "import matplotlib.pyplot as plt\n",
    "import seaborn as sns"
   ]
  },
  {
   "cell_type": "code",
   "execution_count": 3,
   "metadata": {},
   "outputs": [],
   "source": [
    "pd.options.display.max_rows = 7\n",
    "pd.options.display.max_columns = 8"
   ]
  },
  {
   "cell_type": "code",
   "execution_count": 4,
   "metadata": {},
   "outputs": [],
   "source": [
    "#parse data\n",
    "df_index = pd.read_csv(\"oci_2015_datasd.csv\")\n",
    "df_collisions = pd.read_csv(\"pd_collisions_datasd.csv\")\n",
    "df_traffic = pd.read_csv(\"traffic_counts_datasd.csv\")\n",
    "df_meters = pd.read_csv(\"treas_parking_meters_loc_datasd.csv\")\n",
    "\n",
    "#drop OCI columns\n",
    "df_index.drop( columns = \"seg_id\", inplace = True )\n",
    "df_index.drop( columns = \"seg_length_ft\", inplace = True )\n",
    "df_index.drop( columns = \"seg_width_ft\", inplace = True )\n",
    "df_index.drop( columns = \"street_from\", inplace = True )\n",
    "df_index.drop( columns = \"street_to\", inplace = True )\n",
    "df_index.drop( columns = \"oci_wt\", inplace = True )\n",
    "df_index.drop( columns = \"pvm_class\", inplace = True )\n",
    "df_index.drop( columns = \"func_class\", inplace = True )\n",
    "\n",
    "#drop collision columns\n",
    "df_collisions.drop( columns = \"report_id\", inplace = True )\n",
    "df_collisions.drop( columns = \"cross_st_name\", inplace = True )\n",
    "df_collisions.drop( columns = \"cross_st_type\", inplace = True )\n",
    "df_collisions.drop( columns = \"street_dir\", inplace = True )\n",
    "df_collisions.drop( columns = \"cross_st_dir\", inplace = True )\n",
    "df_collisions.drop( columns = \"violation_section\", inplace = True )\n",
    "df_collisions.drop( columns = \"violation_type\", inplace = True )\n",
    "df_collisions.drop( columns = \"charge_desc\", inplace = True )\n",
    "df_collisions.drop( columns = \"injured\", inplace = True )\n",
    "df_collisions.drop( columns = \"killed\", inplace = True )\n",
    "df_collisions.drop( columns = \"hit_run_lvl\", inplace = True )\n",
    "df_collisions.drop( columns = \"police_beat\", inplace = True )\n",
    "df_collisions[ 'street' ] = df_collisions[ 'street_name' ].map( str ) + ' ' + df_collisions[ 'street_type' ]\n",
    "df_collisions.drop( columns = \"street_name\", inplace = True )\n",
    "df_collisions.drop( columns = \"street_type\", inplace = True )\n",
    "df_collisions.dropna( inplace = True )\n",
    "\n",
    "#drop traffic columns\n",
    "df_traffic.drop( columns = \"id\", inplace = True )\n",
    "df_traffic.drop( columns = \"all_count\", inplace = True )\n",
    "df_traffic.drop( columns = \"northbound_count\", inplace = True )\n",
    "df_traffic.drop( columns = \"southbound_count\", inplace = True )\n",
    "df_traffic.drop( columns = \"eastbound_count\", inplace = True )\n",
    "df_traffic.drop( columns = \"westbound_count\", inplace = True )\n",
    "df_traffic.drop( columns = \"file_no\", inplace = True )\n",
    "df_traffic.drop( columns = \"count_date\", inplace = True )\n",
    "new = df_traffic[ 'limits' ].str.split( ' - ', n = 1, expand = True) \n",
    "df_traffic[ 'limit_1' ] = new[ 0 ]\n",
    "df_traffic[ 'limit_2' ] = new[ 1 ]\n",
    "df_traffic.drop( columns = \"limits\", inplace = True )\n",
    "#df2 combines like elements in df_traffic\n",
    "df2 = df_traffic.groupby( [ 'street_name', 'limit_1', 'limit_2' ], as_index = False).agg({ 'total_count' : 'sum' })\n",
    "df_traffic = pd.DataFrame( df2 )\n",
    "df_traffic.dropna( inplace = True )\n",
    "\n",
    "df_meters.drop( columns = \"area\", inplace = True )\n",
    "df_meters.drop( columns = \"sub_area\", inplace = True )\n",
    "df_meters.drop( columns = \"pole\", inplace = True )\n",
    "df_meters.drop( columns = \"config_id\", inplace = True )\n",
    "df_meters.drop( columns = \"config_name\", inplace = True )\n",
    "df_meters.dropna( inplace = True )"
   ]
  },
  {
   "cell_type": "code",
   "execution_count": 6,
   "metadata": {},
   "outputs": [
    {
     "name": "stdout",
     "output_type": "stream",
     "text": [
      "     street_name           limit_1      limit_2  total_count\n",
      "0          01 AV              A ST       ASH ST        57667\n",
      "1          01 AV            ASH ST     BEECH ST         2298\n",
      "2          01 AV              B ST         A ST        29194\n",
      "...          ...               ...          ...          ...\n",
      "3988     ZION AV      CLARA LEE AV  ESTRELLA AV        36057\n",
      "3989     ZION AV  MISSION GORGE RD  ARCHWOOD AV        24257\n",
      "3990      ZOO PL           PARK BL   FLORIDA DR        32024\n",
      "\n",
      "[3991 rows x 4 columns]\n"
     ]
    }
   ],
   "source": []
  },
  {
   "cell_type": "code",
   "execution_count": null,
   "metadata": {},
   "outputs": [],
   "source": []
  }
 ],
 "metadata": {
  "kernelspec": {
   "display_name": "Python 3",
   "language": "python",
   "name": "python3"
  },
  "language_info": {
   "codemirror_mode": {
    "name": "ipython",
    "version": 3
   },
   "file_extension": ".py",
   "mimetype": "text/x-python",
   "name": "python",
   "nbconvert_exporter": "python",
   "pygments_lexer": "ipython3",
   "version": "3.7.3"
  }
 },
 "nbformat": 4,
 "nbformat_minor": 2
}
