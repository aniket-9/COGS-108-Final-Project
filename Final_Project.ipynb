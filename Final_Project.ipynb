{
 "cells": [
  {
   "cell_type": "markdown",
   "metadata": {},
   "source": [
    "## Group Members and Contributions\n",
    "\n",
    "- __Kenta Asai (A )__\n",
    "    - a\n",
    "- __Riley Froehlich (A )__\n",
    "    - Data Cleaning/Wrangling\n",
    "- __Aniket Ghatnekar (A14688625)__\n",
    "    - Data Analysis\n",
    "    - Visualizations\n",
    "- __Stephanie Shon (A13811108)__\n",
    "    - Data Cleaning/Wrangling\n",
    "    - Data Analysis\n",
    "- __Haimei Yang (A13519498)__\n",
    "    - Data Analysis\n",
    "- __Jeffrey Yao (A )__\n",
    "    - Data Analysis"
   ]
  },
  {
   "cell_type": "markdown",
   "metadata": {},
   "source": [
    "## Introduction\n",
    "\n",
    " __DATA SCIENCE QUESTION(S) & HYPOTHESIS:__\n",
    "\n",
    "- Proposed Question\n",
    "    - How does the frequency of traffic collisions change based on street quality index, traffic volume, and parking meter locations in the city of San Diego?\n",
    "\n",
    "- Hypothesis\n",
    "    - We hypothesize that traffic collisions in San Diego will have a higher frequency on streets that have lower OCI’s (Overall Condition Index), higher traffic volume, and will depend on the number of parking meters,  in an area (and thereby, variance of available parking spaces).\n",
    "\n",
    "We think this topic has ample scope to explore a very important civil and social safety issue. By analysing how traffic collisions vary based on a variety of factors in our own city of San Diego, we plan to find the best way to reduce collisions generally. Although this is a specific analysis in only one city, we hope that highly correlational variables can be recognized with global applicability, at least to some degree.\n",
    "\n",
    "### Background\n",
    "\n",
    "Safety is the number one priority when driving. Unfortunately, traffic collisions and rule breaking happen regularly and can range from minor incidents to severe injuries and even death. The number of traffic collisions in San Diego increase every year, and this could potentially affect UCSD students and faculty as many people use cars to commute to and from school. As students of UCSD, we want to find out if San Diego traffic collisions are affected by factors such as street quality, traffic density and the number of parking meters in an effort to gain a better understanding of which areas are most prone to collisions.\n",
    "\n",
    "There has been a multitude of prior research that has studied the relationship between traffic collisions and different factors such as parking and driver behavior, in an attempt to improve road safety.\n",
    "\n",
    "For starters, it is important to note that in Miller’s (2016) article, he recognizes that “while pedestrian-related collisions made up a very small share of priority corridor collisions, they comprised over two-thirds (67%) of the fatal collisions on those roadways.” Considering the statistics on the amount of accidents that include pedestrians, there is a big concern that the collisions on the road may affect those who aren’t in a vehicle. This increases the awareness of how deadly these collisions can be, and will continue to be, if there aren’t preventative measures taken for both the pedestrian and driver. In addition, there has been a study by NYU that determined a “71% correlation between risky driving behavior and traffic accidents and concluded that safer driving habits would help to prevent future traffic accidents” (Bousquet, 2017).  The percentage of parking-related midblock accidents increase as the size of streets decrease from a highway to a local street (Jack B. Humphreys & Donald J. Wheeler 1979). Highways do not have parking, but smaller local roads have parking spaces and meters by the sidewalk. \n",
    "\n",
    "Although these studies have found that these behaviors seem to play a big factor in road accidents, our team wants to research the cause of collisions from a different perspective. With the pressing issue of the increase in traffic collisions every year, we wanted to find more data on whether the OCI (Overall Condition Index), traffic volume, and the number of parking meters and/or spaces have played a role in the road accidents, in hopes that future preventative measures will be made.\n",
    "\n",
    "__References:__\n",
    "- (Humphreys & Wheeler, 1979) : http://onlinepubs.trb.org/Onlinepubs/trr/1979/722/722-004.pdf\n",
    "- (Miller, 2016): https://datasmart.ash.harvard.edu/news/article/san-jose-tackles-traffic-with-data-802)\n",
    "- (Bousquet, 2017): https://datasmart.ash.harvard.edu/news/article/can-better-data-make-zero-traffic-deaths-a-reality-1138)"
   ]
  },
  {
   "cell_type": "markdown",
   "metadata": {},
   "source": [
    "## Data\n",
    "\n",
    "The following are links to the datasets to be used in this project(as of now, more datasets may be added as needed):\n",
    "\n",
    "- Traffic Collisions dataset: https://data.sandiego.gov/datasets/police-collisions/\n",
    "- Street quality datasets:https://data.sandiego.gov/datasets/streets-overall-condition-index/\n",
    "- Parking meter dataset: https://data.sandiego.gov/datasets/parking-meters-locations/\n",
    "- Traffic volumes dataset: https://data.sandiego.gov/datasets/traffic-volumes/\n",
    "\n",
    "\n",
    "The traffic collisions dataset includes all kinds of unlawful acts caught by the local police, such as taking illegal turns, stop requirements, and hit and runs. There are a total of 22,862 observations and with each observation, there is an indicated date, time, street number, street name, street type, violation type, and the number of people injured or killed.\n",
    "\n",
    "The street quality datasets contains two sets of data measuring the quality of streets in San Diego based on an Overall Condition Index (OCI). One data set is from 2011 and contains 28,098 observations whereas the other data set is from 2015 and contains 30,712 observations. Each observation has an overall condition index, street name, segment length, segment width, the square footage of the segment, what type of street and pavement it is, and a description on whether it is good, fair or poor. \n",
    "\n",
    "The parking meter dataset contains the location of parking meters in San Diego. There are a total of 4668 observations and each observation has a zone, an area, a sub-area and the meter’s longitude and latitude. \n",
    "\n",
    "The traffic volumes dataset contains the count of vehicles on city streets reported in the form of Average Daily Traffic (ADT). This gives us a good idea of the average traffic volume on each street. There are 11659 observations and each observation has the date the observation was made, the street a segment is on, the cross street limits of a segment, and the counts of cars going north, east, west, and southbound. \n",
    "\n",
    "All the datasets cover records over the past couple years, hence giving a large enough combined dataset to work with. We plan to extract the features our project is concerned with, and combine them sensibly into one dataset for ease of analysis.\n",
    "\n",
    "Cleaning the data will be required as many entries under some columns are not filled. Fortunately, since these are mostly names of streets we do not need them(we will use the street locations and codes instead). We might also find that features such as police beats considerably influence traffic collision frequency during exploratory analysis, and may decide to include features based on degree of correlation.\n"
   ]
  },
  {
   "cell_type": "markdown",
   "metadata": {},
   "source": [
    "## Data Cleaning"
   ]
  },
  {
   "cell_type": "markdown",
   "metadata": {},
   "source": [
    "To start off, import all necessary libraries required for anaylsis. "
   ]
  },
  {
   "cell_type": "code",
   "execution_count": 60,
   "metadata": {},
   "outputs": [],
   "source": [
    "import numpy as np\n",
    "import pandas as pd\n",
    "import matplotlib.pyplot as plt\n",
    "%matplotlib inline\n",
    "from pylab import *\n",
    "import seaborn as sns\n",
    "from IPython.display import display_html\n",
    "from functools import reduce\n",
    "from scipy.stats import kde\n",
    "import plotly.plotly as py\n",
    "from plotly.graph_objs import *"
   ]
  },
  {
   "cell_type": "markdown",
   "metadata": {},
   "source": [
    "Now we define a function that lets you see multiple dataframes together."
   ]
  },
  {
   "cell_type": "code",
   "execution_count": 23,
   "metadata": {},
   "outputs": [],
   "source": [
    "# method to display all df heads\n",
    "def multiple_df_display(*arg):\n",
    "    html_str=''\n",
    "    for df in arg:\n",
    "        html_str+=df.to_html()\n",
    "    display_html(html_str.replace('table','table style=\"display:inline\"'),raw=True)"
   ]
  },
  {
   "cell_type": "code",
   "execution_count": 24,
   "metadata": {},
   "outputs": [],
   "source": [
    "pd.options.display.max_rows = 7\n",
    "pd.options.display.max_columns = 8"
   ]
  },
  {
   "cell_type": "markdown",
   "metadata": {},
   "source": [
    "For the cleaning process, we start by removing all columns in the four major dataframes, which will give no correlation, based on logic and common sense. These columns include numbering systems and id's which do not have any meaning inherently, for the purpose of our analyses. Otherwise, they are features which deviate from our question and hypothesis."
   ]
  },
  {
   "cell_type": "code",
   "execution_count": 25,
   "metadata": {},
   "outputs": [
    {
     "data": {
      "text/html": [
       "<table style=\"display:inline\" border=\"1\" class=\"dataframe\">\n",
       "  <thead>\n",
       "    <tr style=\"text-align: right;\">\n",
       "      <th></th>\n",
       "      <th>oci</th>\n",
       "      <th>street</th>\n",
       "      <th>seg_width_ft</th>\n",
       "      <th>area_sq_ft</th>\n",
       "      <th>oci_desc</th>\n",
       "    </tr>\n",
       "  </thead>\n",
       "  <tbody>\n",
       "    <tr>\n",
       "      <th>0</th>\n",
       "      <td>65.14</td>\n",
       "      <td>ALLEY</td>\n",
       "      <td>30.0</td>\n",
       "      <td>23181.774</td>\n",
       "      <td>Fair</td>\n",
       "    </tr>\n",
       "    <tr>\n",
       "      <th>1</th>\n",
       "      <td>67.45</td>\n",
       "      <td>ALLEY</td>\n",
       "      <td>30.0</td>\n",
       "      <td>5880.075</td>\n",
       "      <td>Fair</td>\n",
       "    </tr>\n",
       "    <tr>\n",
       "      <th>2</th>\n",
       "      <td>70.88</td>\n",
       "      <td>ALLEY</td>\n",
       "      <td>30.0</td>\n",
       "      <td>11850.147</td>\n",
       "      <td>Good</td>\n",
       "    </tr>\n",
       "    <tr>\n",
       "      <th>3</th>\n",
       "      <td>84.00</td>\n",
       "      <td>ALLEY</td>\n",
       "      <td>30.0</td>\n",
       "      <td>5760.075</td>\n",
       "      <td>Good</td>\n",
       "    </tr>\n",
       "    <tr>\n",
       "      <th>4</th>\n",
       "      <td>79.24</td>\n",
       "      <td>ALLEY</td>\n",
       "      <td>30.0</td>\n",
       "      <td>7552.620</td>\n",
       "      <td>Good</td>\n",
       "    </tr>\n",
       "  </tbody>\n",
       "</table style=\"display:inline\"><table style=\"display:inline\" border=\"1\" class=\"dataframe\">\n",
       "  <thead>\n",
       "    <tr style=\"text-align: right;\">\n",
       "      <th></th>\n",
       "      <th>date_time</th>\n",
       "      <th>street_no</th>\n",
       "      <th>street</th>\n",
       "    </tr>\n",
       "  </thead>\n",
       "  <tbody>\n",
       "    <tr>\n",
       "      <th>0</th>\n",
       "      <td>2017-01-01 00:01:00</td>\n",
       "      <td>8300</td>\n",
       "      <td>CAM DEL ORO</td>\n",
       "    </tr>\n",
       "    <tr>\n",
       "      <th>1</th>\n",
       "      <td>2017-01-01 00:01:00</td>\n",
       "      <td>6400</td>\n",
       "      <td>CRAWFORD STREET</td>\n",
       "    </tr>\n",
       "    <tr>\n",
       "      <th>2</th>\n",
       "      <td>2017-01-01 00:01:00</td>\n",
       "      <td>8100</td>\n",
       "      <td>ROYAL GORGE DRIVE</td>\n",
       "    </tr>\n",
       "    <tr>\n",
       "      <th>3</th>\n",
       "      <td>2017-01-01 00:01:00</td>\n",
       "      <td>5500</td>\n",
       "      <td>VALERIO TRAIL</td>\n",
       "    </tr>\n",
       "    <tr>\n",
       "      <th>4</th>\n",
       "      <td>2017-01-01 01:00:00</td>\n",
       "      <td>1000</td>\n",
       "      <td>11TH AVENUE</td>\n",
       "    </tr>\n",
       "  </tbody>\n",
       "</table style=\"display:inline\"><table style=\"display:inline\" border=\"1\" class=\"dataframe\">\n",
       "  <thead>\n",
       "    <tr style=\"text-align: right;\">\n",
       "      <th></th>\n",
       "      <th>street_name</th>\n",
       "      <th>total_count</th>\n",
       "      <th>count_date</th>\n",
       "      <th>limit_1</th>\n",
       "      <th>limit_2</th>\n",
       "    </tr>\n",
       "  </thead>\n",
       "  <tbody>\n",
       "    <tr>\n",
       "      <th>0</th>\n",
       "      <td>01 AV</td>\n",
       "      <td>18010</td>\n",
       "      <td>2007-03-13 00:00:00</td>\n",
       "      <td>A ST</td>\n",
       "      <td>ASH ST</td>\n",
       "    </tr>\n",
       "    <tr>\n",
       "      <th>1</th>\n",
       "      <td>01 AV</td>\n",
       "      <td>20060</td>\n",
       "      <td>2010-03-18 00:00:00</td>\n",
       "      <td>A ST</td>\n",
       "      <td>ASH ST</td>\n",
       "    </tr>\n",
       "    <tr>\n",
       "      <th>2</th>\n",
       "      <td>01 AV</td>\n",
       "      <td>19597</td>\n",
       "      <td>2013-03-12 00:00:00</td>\n",
       "      <td>A ST</td>\n",
       "      <td>ASH ST</td>\n",
       "    </tr>\n",
       "    <tr>\n",
       "      <th>3</th>\n",
       "      <td>01 AV</td>\n",
       "      <td>2298</td>\n",
       "      <td>2012-12-11 00:00:00</td>\n",
       "      <td>ASH ST</td>\n",
       "      <td>BEECH ST</td>\n",
       "    </tr>\n",
       "    <tr>\n",
       "      <th>4</th>\n",
       "      <td>01 AV</td>\n",
       "      <td>15625</td>\n",
       "      <td>2011-09-01 00:00:00</td>\n",
       "      <td>B ST</td>\n",
       "      <td>A ST</td>\n",
       "    </tr>\n",
       "  </tbody>\n",
       "</table style=\"display:inline\"><table style=\"display:inline\" border=\"1\" class=\"dataframe\">\n",
       "  <thead>\n",
       "    <tr style=\"text-align: right;\">\n",
       "      <th></th>\n",
       "      <th>zone</th>\n",
       "      <th>sub_area</th>\n",
       "      <th>longitude</th>\n",
       "      <th>latitude</th>\n",
       "    </tr>\n",
       "  </thead>\n",
       "  <tbody>\n",
       "    <tr>\n",
       "      <th>0</th>\n",
       "      <td>City</td>\n",
       "      <td>1000 CESAR CHAVEZ WAY</td>\n",
       "      <td>-117.145178</td>\n",
       "      <td>32.700353</td>\n",
       "    </tr>\n",
       "    <tr>\n",
       "      <th>1</th>\n",
       "      <td>City</td>\n",
       "      <td>1000 CESAR CHAVEZ WAY</td>\n",
       "      <td>-117.145178</td>\n",
       "      <td>32.700352</td>\n",
       "    </tr>\n",
       "    <tr>\n",
       "      <th>2</th>\n",
       "      <td>City</td>\n",
       "      <td>1000 CESAR CHAVEZ WAY</td>\n",
       "      <td>-117.145349</td>\n",
       "      <td>32.700155</td>\n",
       "    </tr>\n",
       "    <tr>\n",
       "      <th>3</th>\n",
       "      <td>City</td>\n",
       "      <td>1000 CESAR CHAVEZ WAY</td>\n",
       "      <td>-117.145405</td>\n",
       "      <td>32.700107</td>\n",
       "    </tr>\n",
       "    <tr>\n",
       "      <th>4</th>\n",
       "      <td>City</td>\n",
       "      <td>1000 CESAR CHAVEZ WAY</td>\n",
       "      <td>-117.145539</td>\n",
       "      <td>32.699987</td>\n",
       "    </tr>\n",
       "  </tbody>\n",
       "</table style=\"display:inline\">"
      ]
     },
     "metadata": {},
     "output_type": "display_data"
    }
   ],
   "source": [
    "# read in datasets from csv files taken from -   https://data.sandiego.gov/datasets/\n",
    "df_index = pd.read_csv(\"oci_2015_datasd.csv\")\n",
    "df_collisions = pd.read_csv(\"pd_collisions_datasd.csv\")\n",
    "df_traffic = pd.read_csv(\"traffic_counts_datasd.csv\")\n",
    "df_meters = pd.read_csv(\"treas_parking_meters_loc_datasd.csv\")\n",
    "\n",
    "# drop OCI columns\n",
    "df_index.drop( columns = [\"seg_id\", \"seg_length_ft\", \"street_from\", \"street_to\", \"oci_wt\", \"pvm_class\", \"func_class\"], inplace = True )\n",
    "\n",
    "# drop collision columns\n",
    "df_collisions.drop(columns = [\"police_beat\", \"report_id\", \"cross_st_name\", \"cross_st_type\", \"street_dir\", \"cross_st_dir\", \"violation_section\", \"violation_type\", \"charge_desc\", \"injured\", \"killed\", \"hit_run_lvl\"], inplace = True)\n",
    "# combine street name and street type\n",
    "df_collisions[ 'street' ] = df_collisions[ 'street_name' ].map( str ) + ' ' + df_collisions[ 'street_type' ]\n",
    "df_collisions.drop( columns = [\"street_name\", \"street_type\"], inplace = True )\n",
    "df_collisions.dropna( inplace = True )\n",
    "\n",
    "# drop traffic columns\n",
    "df_traffic.drop( columns = [\"id\", \"all_count\", \"northbound_count\", \"southbound_count\", \"eastbound_count\", \"westbound_count\", \"file_no\"], inplace = True )\n",
    "# new splits data in 'limits' column and puts the two parts into columns named 'limit_1' and 'limit_2'\n",
    "new = df_traffic[ 'limits' ].str.split( ' - ', n = 1, expand = True) \n",
    "df_traffic[ 'limit_1' ] = new[ 0 ]\n",
    "df_traffic[ 'limit_2' ] = new[ 1 ]\n",
    "df_traffic.drop( columns = \"limits\", inplace = True )\n",
    "# df2 combines like elements in df_traffic\n",
    "# df2 = df_traffic.groupby( [ 'street_name', 'limit_1', 'limit_2', 'count_date' ], as_index = False).agg({ 'total_count' : 'sum' })\n",
    "# df_traffic = pd.DataFrame( df2 )\n",
    "df_traffic.dropna( inplace = True )\n",
    "\n",
    "# drop parking meter columns\n",
    "df_meters.drop( columns = [\"area\", \"pole\", \"config_id\", \"config_name\"], inplace = True )\n",
    "df_meters.dropna( inplace = True )\n",
    "\n",
    "multiple_df_display(df_index[0:5], df_collisions[0:5], df_traffic[0:5], df_meters[0:5])"
   ]
  },
  {
   "cell_type": "markdown",
   "metadata": {},
   "source": [
    "The second step is to create a standardization for all datasets and then combine the oci dataset and the collisions dataset for our first analysis."
   ]
  },
  {
   "cell_type": "code",
   "execution_count": 26,
   "metadata": {},
   "outputs": [
    {
     "data": {
      "text/html": [
       "<div>\n",
       "<style scoped>\n",
       "    .dataframe tbody tr th:only-of-type {\n",
       "        vertical-align: middle;\n",
       "    }\n",
       "\n",
       "    .dataframe tbody tr th {\n",
       "        vertical-align: top;\n",
       "    }\n",
       "\n",
       "    .dataframe thead th {\n",
       "        text-align: right;\n",
       "    }\n",
       "</style>\n",
       "<table border=\"1\" class=\"dataframe\">\n",
       "  <thead>\n",
       "    <tr style=\"text-align: right;\">\n",
       "      <th></th>\n",
       "      <th>oci</th>\n",
       "      <th>street</th>\n",
       "      <th>seg_width_ft</th>\n",
       "      <th>area_sq_ft</th>\n",
       "      <th>oci_desc</th>\n",
       "      <th>collisions</th>\n",
       "    </tr>\n",
       "  </thead>\n",
       "  <tbody>\n",
       "    <tr>\n",
       "      <th>2053</th>\n",
       "      <td>79.300</td>\n",
       "      <td>44TH ST</td>\n",
       "      <td>20.0</td>\n",
       "      <td>11322.960</td>\n",
       "      <td>Good</td>\n",
       "      <td>20</td>\n",
       "    </tr>\n",
       "    <tr>\n",
       "      <th>2055</th>\n",
       "      <td>78.500</td>\n",
       "      <td>01ST AV</td>\n",
       "      <td>30.0</td>\n",
       "      <td>7295.655</td>\n",
       "      <td>Good</td>\n",
       "      <td>85</td>\n",
       "    </tr>\n",
       "    <tr>\n",
       "      <th>2056</th>\n",
       "      <td>84.978</td>\n",
       "      <td>01ST AV</td>\n",
       "      <td>40.0</td>\n",
       "      <td>14080.000</td>\n",
       "      <td>Good</td>\n",
       "      <td>85</td>\n",
       "    </tr>\n",
       "    <tr>\n",
       "      <th>...</th>\n",
       "      <td>...</td>\n",
       "      <td>...</td>\n",
       "      <td>...</td>\n",
       "      <td>...</td>\n",
       "      <td>...</td>\n",
       "      <td>...</td>\n",
       "    </tr>\n",
       "    <tr>\n",
       "      <th>30684</th>\n",
       "      <td>83.742</td>\n",
       "      <td>ALPINE RIDGE RD</td>\n",
       "      <td>34.0</td>\n",
       "      <td>28050.000</td>\n",
       "      <td>Good</td>\n",
       "      <td>1</td>\n",
       "    </tr>\n",
       "    <tr>\n",
       "      <th>30707</th>\n",
       "      <td>89.500</td>\n",
       "      <td>COYOTE BUSH DR</td>\n",
       "      <td>30.0</td>\n",
       "      <td>2370.000</td>\n",
       "      <td>Good</td>\n",
       "      <td>1</td>\n",
       "    </tr>\n",
       "    <tr>\n",
       "      <th>30711</th>\n",
       "      <td>80.828</td>\n",
       "      <td>CANON ST</td>\n",
       "      <td>17.0</td>\n",
       "      <td>7351.480</td>\n",
       "      <td>Good</td>\n",
       "      <td>13</td>\n",
       "    </tr>\n",
       "  </tbody>\n",
       "</table>\n",
       "<p>13755 rows × 6 columns</p>\n",
       "</div>"
      ],
      "text/plain": [
       "          oci           street  seg_width_ft  area_sq_ft oci_desc  collisions\n",
       "2053   79.300          44TH ST          20.0   11322.960     Good          20\n",
       "2055   78.500          01ST AV          30.0    7295.655     Good          85\n",
       "2056   84.978          01ST AV          40.0   14080.000     Good          85\n",
       "...       ...              ...           ...         ...      ...         ...\n",
       "30684  83.742  ALPINE RIDGE RD          34.0   28050.000     Good           1\n",
       "30707  89.500   COYOTE BUSH DR          30.0    2370.000     Good           1\n",
       "30711  80.828         CANON ST          17.0    7351.480     Good          13\n",
       "\n",
       "[13755 rows x 6 columns]"
      ]
     },
     "execution_count": 26,
     "metadata": {},
     "output_type": "execute_result"
    }
   ],
   "source": [
    "# initializing dictionary of collisions and street names\n",
    "num_collisions = {}\n",
    "\n",
    "# converting street types to standard short forms used in maps\n",
    "conversion = {\"STREET\" : \"ST\", \"AVENUE\": \"AV\", \"CIRCLE\": \"CR\", \"WAY\":\" WY\", \"ROAD\": \"RD\", \n",
    "              \"COURT\" : \"CT\", \"DRIVE\" : \"DR\", \"LANE\": \"LN\", \"PLACE\": \"PL\", }\n",
    "\n",
    "# loop through collisions dataframe\n",
    "for index, row in df_collisions.iterrows():\n",
    "    # split the street type from name\n",
    "    street_type = str(row['street']).split(' ')[-1]\n",
    "    \n",
    "    # convert the street-type to short-hand\n",
    "    if conversion.get(street_type) != None:\n",
    "        street_type = conversion[street_type]\n",
    "    # re-attach the street type to the name\n",
    "    street_name = ' '.join(str(row['street']).split(' ')[0:-1]) + \" \" + street_type\n",
    "    # add new streets to dictionary and add to old ones\n",
    "    if num_collisions.get(street_name) == None:\n",
    "        num_collisions[street_name] = 0;\n",
    "    num_collisions[street_name]+=1;\n",
    "\n",
    "# creating new column in df_index\n",
    "df_index['collisions'] = 0\n",
    "\n",
    "# filling the collisions column\n",
    "for index, row in df_index.iterrows():\n",
    "    street = str(row['street'])\n",
    "    if num_collisions.get(street) != None:\n",
    "        df_index.loc[index, 'collisions'] = num_collisions[street]\n",
    "\n",
    "# ignore empty collisions because df_index.size > num_collisions.size\n",
    "df_index_collisions = df_index[df_index.collisions != 0]\n",
    "\n",
    "df_index_collisions"
   ]
  },
  {
   "cell_type": "markdown",
   "metadata": {},
   "source": [
    "Separate collisions dataset into 2 years for descriptive analysis (2019 not taken because complete year data is not available as of yet). For these 2 subsets we only care about counts, as that is all we will use for descreptive analysis."
   ]
  },
  {
   "cell_type": "code",
   "execution_count": 6,
   "metadata": {},
   "outputs": [
    {
     "name": "stderr",
     "output_type": "stream",
     "text": [
      "/Users/aniket/anaconda3/lib/python3.7/site-packages/pandas/core/frame.py:3940: SettingWithCopyWarning:\n",
      "\n",
      "\n",
      "A value is trying to be set on a copy of a slice from a DataFrame\n",
      "\n",
      "See the caveats in the documentation: http://pandas.pydata.org/pandas-docs/stable/indexing.html#indexing-view-versus-copy\n",
      "\n",
      "/Users/aniket/anaconda3/lib/python3.7/site-packages/pandas/core/frame.py:4025: SettingWithCopyWarning:\n",
      "\n",
      "\n",
      "A value is trying to be set on a copy of a slice from a DataFrame\n",
      "\n",
      "See the caveats in the documentation: http://pandas.pydata.org/pandas-docs/stable/indexing.html#indexing-view-versus-copy\n",
      "\n"
     ]
    }
   ],
   "source": [
    "collisions_2017 = df_collisions[df_collisions['date_time'].str.contains(\"2017\")]\n",
    "collisions_2018 = df_collisions[df_collisions['date_time'].str.contains(\"2018\")]\n",
    "collisions_2017.drop(columns = 'street_no',inplace=True)\n",
    "collisions_2018.drop(columns = 'street_no',inplace=True)\n",
    "collisions_2017.rename(columns = {'date_time':'Collision Counts (2017)'}, inplace=True)\n",
    "collisions_2018.rename(columns = {'date_time':'Collision Counts (2018)'}, inplace=True)"
   ]
  },
  {
   "cell_type": "markdown",
   "metadata": {},
   "source": [
    "## Descriptive Analysis"
   ]
  },
  {
   "cell_type": "markdown",
   "metadata": {},
   "source": [
    "We first take a look at the OCI dataset (2015)"
   ]
  },
  {
   "cell_type": "code",
   "execution_count": 7,
   "metadata": {},
   "outputs": [
    {
     "name": "stdout",
     "output_type": "stream",
     "text": [
      "Mean oci of streets with at least one collision: 69.783\n",
      "Standard Deviation of oci of street with at least one collision: 18.265\n",
      "Max oci of streets with at least one collision: 100.000\n",
      "Min oci of streets with at least one collision: 0.000\n",
      "\n"
     ]
    }
   ],
   "source": [
    "oci_mean = df_index_collisions['oci'].mean()\n",
    "oci_std = df_index_collisions['oci'].std()\n",
    "oci_max = df_index_collisions['oci'].max()\n",
    "oci_min = df_index_collisions['oci'].min()\n",
    "\n",
    "print(\"Mean oci of streets with at least one collision: \" + format(oci_mean, '.3f'))\n",
    "print(\"Standard Deviation of oci of street with at least one collision: \" + format(oci_std, '.3f'))\n",
    "print(\"Max oci of streets with at least one collision: \" + format(oci_max, '.3f'))\n",
    "print(\"Min oci of streets with at least one collision: \" + format(oci_min, '.3f') + \"\\n\")"
   ]
  },
  {
   "cell_type": "markdown",
   "metadata": {},
   "source": [
    "To perform descriptive analysis, we must understand the shape of the data. We now take a look at collisions data.\n",
    "Note: Only heads of dataframes shown."
   ]
  },
  {
   "cell_type": "code",
   "execution_count": 8,
   "metadata": {},
   "outputs": [
    {
     "name": "stdout",
     "output_type": "stream",
     "text": [
      "2017 subset shape:\n",
      "(10238, 2)\n",
      "2018 subset shape:\n",
      "(9897, 2)\n"
     ]
    },
    {
     "name": "stderr",
     "output_type": "stream",
     "text": [
      "/Users/aniket/anaconda3/lib/python3.7/site-packages/matplotlib/figure.py:445: UserWarning:\n",
      "\n",
      "Matplotlib is currently using module://ipykernel.pylab.backend_inline, which is a non-GUI backend, so cannot show the figure.\n",
      "\n"
     ]
    },
    {
     "data": {
      "image/png": "[encoded data removed]",
      "text/plain": [
       "<Figure size 432x288 with 2 Axes>"
      ]
     },
     "metadata": {
      "needs_background": "light"
     },
     "output_type": "display_data"
    }
   ],
   "source": [
    "# get shape of two subsets\n",
    "print(\"2017 subset shape:\")\n",
    "print(collisions_2017.shape)\n",
    "print(\"2018 subset shape:\")\n",
    "print(collisions_2018.shape)\n",
    "\n",
    "# group by streets\n",
    "counts_2017 = collisions_2017.groupby(['street'], as_index = False).count()[0:9]\n",
    "counts_2018 = collisions_2018.groupby(['street'], as_index = False).count()[0:9]\n",
    "\n",
    "# Plot\n",
    "fig, ax = plt.subplots(1,2)\n",
    "sns.boxplot('Collision Counts (2017)', data = counts_2017, ax = ax[0])\n",
    "sns.boxplot('Collision Counts (2018)', data = counts_2018, ax = ax[1])\n",
    "\n",
    "fig.show()"
   ]
  },
  {
   "cell_type": "markdown",
   "metadata": {},
   "source": [
    "## Exploratory Analysis"
   ]
  },
  {
   "cell_type": "markdown",
   "metadata": {},
   "source": [
    "We searched for correlation between street dimensions and collision frequency, covering all years in the collision dataset. We were able to do this, since after checking through the datasets, we confirmed that street dimensions stay the same (length, width, area). We did this by cross-checking the 2015 and 2011 oci datasets, thus proving validity across a large time period. The only correlation seen was with width. Length did not seem to matter, and hence area did not either.\n",
    "We then create a scatter plot and draw a best-fit line to summarize the correlation."
   ]
  },
  {
   "cell_type": "code",
   "execution_count": 73,
   "metadata": {},
   "outputs": [
    {
     "data": {
      "text/plain": [
       "[<matplotlib.lines.Line2D at 0x1a22059b70>]"
      ]
     },
     "execution_count": 73,
     "metadata": {},
     "output_type": "execute_result"
    },
    {
     "data": {
      "image/png": "[encoded data removed]",
      "text/plain": [
       "<Figure size 432x288 with 1 Axes>"
      ]
     },
     "metadata": {},
     "output_type": "display_data"
    }
   ],
   "source": [
    "# best fit line over scatter plot\n",
    "a, b = np.polyfit(df_index_collisions['collisions'], df_index_collisions['seg_width_ft'], 1)\n",
    "# start and end for line\n",
    "in_oci = np.arange(0, max(df_index_collisions['collisions']) + 1)\n",
    "# apply prediction formula for best fit\n",
    "pred_oci = a * in_oci + b\n",
    "\n",
    "# create scatter plot with x-axis as collisions over 3 years, and y-axis as the road segment width\n",
    "plt.scatter(df_index_collisions['collisions'], df_index_collisions['seg_width_ft'])\n",
    "plt.xlabel('COLLISIONS', fontsize = 16)\n",
    "plt.ylabel('ROAD SEGMENT WIDTH (FT)', fontsize = 16)\n",
    "plt.plot(in_oci, pred_oci, color = \"red\")"
   ]
  },
  {
   "cell_type": "markdown",
   "metadata": {},
   "source": [
    "As seen above there is a positive correlation. Note that the data spans from January 2017 to May 2019, and the collisions frequencies are mostly in hundreds because they are summations of instances, instead of single occurrences. Immediately, the outliers over the 600 frequency mark raise a question as to why they are so far apart from the rest of the data. We came up with the explanation to this by looking which street this related to, and we found it to be University Avenue, which is very long, consists of several segments, and starts less than a mile from San Diego State University. This provides a logical explanation to the abnormally high frequency, possibly due to reckless driving by students. That being said, because of the high number of datapoints, another visualization will be necessary, in which log of collisions will be used to negate the effect of spread of data in the visualization. "
   ]
  },
  {
   "cell_type": "code",
   "execution_count": 78,
   "metadata": {},
   "outputs": [
    {
     "data": {
      "image/png": "[encoded data removed]",
      "text/plain": [
       "<Figure size 432x432 with 4 Axes>"
      ]
     },
     "metadata": {},
     "output_type": "display_data"
    }
   ],
   "source": [
    "df_index_collisions_copy = df_index_collisions.copy()\n",
    "# take log of collisions column\n",
    "df_index_collisions_copy['collisions'] = np.log(df_index_collisions_copy['collisions'])\n",
    "\n",
    "sns.set_style(\"darkgrid\")\n",
    "hexplot = sns.jointplot(x=\"collisions\", y=\"seg_width_ft\", data=df_index_collisions_copy, kind=\"hex\",color = \"blue\")\n",
    "plt.subplots_adjust(left=0.2, right=0.8, top=0.8, bottom=0.2)\n",
    "cbar_ax = hexplot.fig.add_axes([.85, .25, .05, .4])\n",
    "plt.colorbar(cax=cbar_ax)\n",
    "plt.show()"
   ]
  },
  {
   "cell_type": "markdown",
   "metadata": {},
   "source": [
    "Clearly, lower street width correlates to higher number of collisions."
   ]
  },
  {
   "cell_type": "code",
   "execution_count": null,
   "metadata": {},
   "outputs": [],
   "source": [
    "Updating(need to convert to a single year)"
   ]
  },
  {
   "cell_type": "code",
   "execution_count": null,
   "metadata": {},
   "outputs": [],
   "source": [
    "# Analytic analysis for collisions and traffic volume\n",
    "average_traffic_count = {}\n",
    "street_names = []\n",
    "total_count = []\n",
    "\n",
    "# loop through df_traffic and obtain average traffic count per street\n",
    "\n",
    "for index, row in df_traffic.iterrows():\n",
    "    street = str(row['street_name'])\n",
    "    traffic_count = row['total_count']\n",
    "    if street not in average_traffic_count:\n",
    "        average_traffic_count[street] = (traffic_count, 1)\n",
    "    else:\n",
    "        street_count = average_traffic_count[street][1] + 1\n",
    "        average_traffic_count[street] = (traffic_count, street_count)\n",
    "\n",
    "\n",
    "for street in average_traffic_count:\n",
    "    street_names.append(street)\n",
    "\n",
    "for street, street_count in average_traffic_count.items():\n",
    "    total_count.append(street_count[0]/street_count[1])\n",
    "\n",
    "data = {'street_name' : street_names, 'average_total_count' : total_count}    \n",
    "df_traffic_collisions = pd.DataFrame(data)\n",
    "\n",
    "# adding a new row to df_traffic_collisions\n",
    "df_traffic_collisions['collisions'] = 0\n",
    "\n",
    "for index, row in df_traffic_collisions.iterrows():\n",
    "    street = str(row['street_name'])\n",
    "    if street in num_collisions:\n",
    "        df_traffic_collisions.loc[index, 'collisions'] = num_collisions[street]\n",
    "        \n",
    "df_traffic_collisions = df_traffic_collisions[df_traffic_collisions.collisions != 0]\n",
    "\n",
    "df_traffic_collisions"
   ]
  }
 ],
 "metadata": {
  "kernelspec": {
   "display_name": "Python 3",
   "language": "python",
   "name": "python3"
  },
  "language_info": {
   "codemirror_mode": {
    "name": "ipython",
    "version": 3
   },
   "file_extension": ".py",
   "mimetype": "text/x-python",
   "name": "python",
   "nbconvert_exporter": "python",
   "pygments_lexer": "ipython3",
   "version": "3.7.3"
  }
 },
 "nbformat": 4,
 "nbformat_minor": 2
}
